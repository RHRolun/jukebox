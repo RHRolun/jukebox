{
 "cells": [
  {
   "cell_type": "markdown",
   "id": "2c004acc-13cd-4917-8480-592c7c2d623b",
   "metadata": {},
   "source": [
    "## Setup\n",
    "\n",
    "Change the following variable settings to match your deployed model's *Inference endpoint*. for example: \n",
    "\n",
    "```\n",
    "deployed_model_name = \"fraud\"\n",
    "infer_endpoint = \"https://fraud-predictor-userx-workshop.apps.clusterx.sandboxx.opentlc.com\"\n",
    "```"
   ]
  },
  {
   "cell_type": "code",
   "execution_count": null,
   "id": "4fe39385",
   "metadata": {},
   "outputs": [],
   "source": [
    "import pandas as pd\n",
    "import matplotlib.pyplot as plt\n",
    "import pickle\n",
    "import numpy as np\n",
    "import requests"
   ]
  },
  {
   "cell_type": "code",
   "execution_count": null,
   "id": "0de65d02-84a6-4cff-882e-551cdd42b486",
   "metadata": {},
   "outputs": [],
   "source": [
    "deployed_model_name = \"music\"\n",
    "infer_endpoint = \"https://music-predictor-<project-name>.<cluster>.com\"\n",
    "infer_url = f\"{infer_endpoint}/v2/models/{deployed_model_name}/infer\""
   ]
  },
  {
   "cell_type": "markdown",
   "id": "d94f9ece-e9cf-44e2-a8a2-73160186aee8",
   "metadata": {},
   "source": [
    "## Request Function\n",
    "\n",
    "Build and submit the REST request. \n",
    "\n",
    "Note: You submit the data in the same format that you used for an ONNX inference."
   ]
  },
  {
   "cell_type": "code",
   "execution_count": null,
   "id": "54b9386f-683a-4880-b780-c40bec3ab9f8",
   "metadata": {
    "tags": []
   },
   "outputs": [],
   "source": [
    "def rest_request(data):\n",
    "    json_data = {\n",
    "        \"inputs\": [\n",
    "            {\n",
    "                \"name\": \"dense_input\",\n",
    "                \"shape\": [1, 13],\n",
    "                \"datatype\": \"FP32\",\n",
    "                \"data\": data\n",
    "            }\n",
    "        ]\n",
    "    }\n",
    "\n",
    "    response = requests.post(infer_url, json=json_data, verify=False)\n",
    "    response_dict = response.json()\n",
    "    return response_dict['outputs'][0]['data']"
   ]
  },
  {
   "cell_type": "code",
   "execution_count": null,
   "id": "5f871f12",
   "metadata": {},
   "outputs": [],
   "source": [
    "#Load the scaler and label encoder\n",
    "with open('artifact/scaler.pkl', 'rb') as handle:\n",
    "    scaler = pickle.load(handle)\n",
    "    \n",
    "with open('artifact/label_encoder.pkl', 'rb') as handle:\n",
    "    label_encoder = pickle.load(handle)"
   ]
  },
  {
   "cell_type": "code",
   "execution_count": null,
   "id": "45ad16ac-23da-48bd-9796-f8e4cacae981",
   "metadata": {},
   "outputs": [],
   "source": [
    "song_properties = pd.read_parquet('../1-data_prep/song_properties.parquet')\n",
    "favorite_song = song_properties.loc[song_properties[\"name\"]==\"Not Like Us\"]\n",
    "favorite_song"
   ]
  },
  {
   "cell_type": "code",
   "execution_count": null,
   "id": "1d66e0f7-4d4e-4879-bdf1-36b712432fd9",
   "metadata": {},
   "outputs": [],
   "source": [
    "data = favorite_song[['is_explicit', 'duration_ms', 'danceability', 'energy', 'key', 'loudness', 'mode', 'speechiness', 'acousticness', 'instrumentalness', 'liveness', 'valence', 'tempo']]\n",
    "prediction = rest_request(scaler.transform(data.values).tolist()[0])"
   ]
  },
  {
   "cell_type": "code",
   "execution_count": null,
   "id": "da502d40",
   "metadata": {},
   "outputs": [],
   "source": [
    "plt.figure(figsize = (6, 8))\n",
    "plt.bar(x = range(len(prediction)),\n",
    "        height = prediction)\n",
    "plt.title('Prediction over countries', size = 12, weight = 'bold')\n",
    "plt.show()"
   ]
  },
  {
   "cell_type": "code",
   "execution_count": null,
   "id": "6452df5c",
   "metadata": {},
   "outputs": [],
   "source": [
    "most_likely_country = np.argmax(prediction)\n",
    "country_code = label_encoder.inverse_transform([most_likely_country])\n",
    "print(f\"The most likely country is #{most_likely_country} which corresponds to the country code '{country_code[0]}'\")"
   ]
  }
 ],
 "metadata": {
  "kernelspec": {
   "display_name": "Python 3.9",
   "language": "python",
   "name": "python3"
  },
  "language_info": {
   "codemirror_mode": {
    "name": "ipython",
    "version": 3
   },
   "file_extension": ".py",
   "mimetype": "text/x-python",
   "name": "python",
   "nbconvert_exporter": "python",
   "pygments_lexer": "ipython3",
   "version": "3.9.18"
  }
 },
 "nbformat": 4,
 "nbformat_minor": 5
}
