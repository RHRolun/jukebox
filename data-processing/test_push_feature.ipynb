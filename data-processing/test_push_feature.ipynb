{
 "cells": [
  {
   "cell_type": "code",
   "execution_count": null,
   "id": "04ff83f3-883d-4102-8c5c-8dd586e20bd9",
   "metadata": {},
   "outputs": [],
   "source": [
    "import feast\n",
    "import pandas as pd\n",
    "from datetime import datetime\n",
    "import yaml"
   ]
  },
  {
   "cell_type": "markdown",
   "id": "0a7d5406-0a99-4f99-8daf-1a94dd278975",
   "metadata": {},
   "source": [
    "# Push a feature to feast online and offline store"
   ]
  },
  {
   "cell_type": "code",
   "execution_count": null,
   "id": "9840c1b4-dcb6-4e0d-b9fb-ddb2b4355639",
   "metadata": {},
   "outputs": [],
   "source": [
    "with open('feature_repo/feature_store.yaml', 'r') as file:\n",
    "    fs_config_yaml = yaml.safe_load(file)"
   ]
  },
  {
   "cell_type": "code",
   "execution_count": null,
   "id": "bbd47075-8cde-45a8-b19f-939c4bf0d7f9",
   "metadata": {},
   "outputs": [],
   "source": [
    "fs_config = feast.repo_config.RepoConfig(**fs_config_yaml)\n",
    "fs = feast.FeatureStore(config=fs_config)"
   ]
  },
  {
   "cell_type": "code",
   "execution_count": null,
   "id": "dc2bb781-786f-4bb4-bbab-650c78350458",
   "metadata": {},
   "outputs": [],
   "source": [
    "feature_dataframe = pd.DataFrame(data = {\n",
    "    \"transaction_id\": [0],\n",
    "    \"distance_from_home\": [0],\n",
    "    \"distance_from_last_transaction\": [0],\n",
    "    \"ratio_to_median_purchase_price\": [0],\n",
    "    \"repeat_retailer\": [0],\n",
    "    \"used_chip\": [0],\n",
    "    \"used_pin_number\": [0],\n",
    "    \"online_order\": [0],\n",
    "    \"fraud\": [0],\n",
    "    \"event_timestamp\": datetime.now()\n",
    "})\n",
    "feature_dataframe.head()"
   ]
  },
  {
   "cell_type": "code",
   "execution_count": null,
   "id": "da162128-823d-482f-9ee1-6626429fe1aa",
   "metadata": {},
   "outputs": [],
   "source": [
    "from feast.data_source import PushMode\n",
    "fs.push(\"push_source\", feature_dataframe, to=PushMode.ONLINE_AND_OFFLINE)"
   ]
  },
  {
   "cell_type": "markdown",
   "id": "2038fdba-f775-4205-a632-9b7a834b45e6",
   "metadata": {},
   "source": [
    "# Online load the feature we just pushed"
   ]
  },
  {
   "cell_type": "code",
   "execution_count": null,
   "id": "7c99b5a6-e393-4800-bdf0-112b42ed7c84",
   "metadata": {},
   "outputs": [],
   "source": [
    "features = fs.get_online_features(\n",
    "    features=[\n",
    "        \"push_transaction_features:distance_from_last_transaction\",\n",
    "        \"push_transaction_features:ratio_to_median_purchase_price\",\n",
    "        \"push_transaction_features:used_chip\",\n",
    "        \"push_transaction_features:used_pin_number\",\n",
    "        \"push_transaction_features:online_order\",\n",
    "    ],\n",
    "    entity_rows=[\n",
    "        {\n",
    "            \"transaction_id\": 0,\n",
    "        }\n",
    "    ],\n",
    ")"
   ]
  },
  {
   "cell_type": "code",
   "execution_count": null,
   "id": "759ecb6b-4f60-4203-a132-e0b09168dc43",
   "metadata": {
    "tags": []
   },
   "outputs": [],
   "source": [
    "features = features.to_dict()\n",
    "features"
   ]
  }
 ],
 "metadata": {
  "kernelspec": {
   "display_name": "Python 3.9",
   "language": "python",
   "name": "python3"
  },
  "language_info": {
   "codemirror_mode": {
    "name": "ipython",
    "version": 3
   },
   "file_extension": ".py",
   "mimetype": "text/x-python",
   "name": "python",
   "nbconvert_exporter": "python",
   "pygments_lexer": "ipython3",
   "version": "3.9.16"
  }
 },
 "nbformat": 4,
 "nbformat_minor": 5
}
